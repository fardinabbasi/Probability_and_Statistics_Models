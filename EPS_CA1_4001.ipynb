{
 "cells": [
  {
   "cell_type": "markdown",
   "id": "3ca07fd8",
   "metadata": {
    "toc": true
   },
   "source": [
    "<h1>Table of Contents<span class=\"tocSkip\"></span></h1>\n",
    "<div class=\"toc\"><ul class=\"toc-item\"><li><span><a href=\"#Q1:-Win/Lose-Game\" data-toc-modified-id=\"Q1:-Win/Lose-Game-1\"><span class=\"toc-item-num\">1&nbsp;&nbsp;</span>Q1: Win/Lose Game</a></span></li><li><span><a href=\"#Q2:-Birthday-Problem\" data-toc-modified-id=\"Q2:-Birthday-Problem-2\"><span class=\"toc-item-num\">2&nbsp;&nbsp;</span>Q2: Birthday Problem</a></span></li></ul></div>"
   ]
  },
  {
   "cell_type": "markdown",
   "id": "87df5f3e",
   "metadata": {},
   "source": [
    "# Q1: Win/Lose Game"
   ]
  },
  {
   "cell_type": "code",
   "execution_count": 1,
   "id": "f28448e8",
   "metadata": {},
   "outputs": [],
   "source": [
    "import numpy as np\n",
    "from matplotlib import pyplot as plt\n",
    "import random\n",
    "import abc"
   ]
  },
  {
   "cell_type": "code",
   "execution_count": 2,
   "id": "d9f73cc1",
   "metadata": {},
   "outputs": [],
   "source": [
    "def winorlost(trials):\n",
    "    win=0\n",
    "    dice1=[None]*trials\n",
    "    dice2=[None]*trials\n",
    "    probability=[None]*trials\n",
    "    for i in range(trials):\n",
    "        dice1[i]=np.random.randint(1,6)\n",
    "        dice2[i]=np.random.randint(1,6)\n",
    "        sum_dice=dice1[i]+dice2[i]\n",
    "        if((sum_dice==7) or (sum_dice==11)):\n",
    "            win+=1\n",
    "        elif((sum_dice==2) or (sum_dice==3) or (sum_dice==12)):\n",
    "            win+=0\n",
    "        else:\n",
    "            n_win=win\n",
    "            while n_win==win :#until we havent reach a new win or lost\n",
    "                n_dice1=[]\n",
    "                n_dice2=[]\n",
    "                n_dice1.append(np.random.randint(1,6))\n",
    "                n_dice2.append(np.random.randint(1,6))\n",
    "                if (n_dice1[-1]+n_dice2[-1]==sum_dice):\n",
    "                    win+=1\n",
    "                    break\n",
    "                elif(n_dice1[-1]+n_dice2[-1]==7):\n",
    "                    break\n",
    "                else:\n",
    "                    continue\n",
    "        p=win/(i+1)\n",
    "        probability[i]=p\n",
    "    return probability"
   ]
  },
  {
   "cell_type": "code",
   "execution_count": 3,
   "id": "d2f6aa3e",
   "metadata": {},
   "outputs": [],
   "source": [
    "def RE(p):#Relative Eror function\n",
    "    print(\"your win probabilty in this number of trials is:\",p[-1])\n",
    "    theoric_probability=0.492929\n",
    "    relative_eror=abs((theoric_probability-p[-1])/theoric_probability)\n",
    "    print(\"relative_eror is:\",relative_eror)\n",
    "    return relative_eror\n",
    "\n",
    "def plot(result,trials):\n",
    "    x=range(1,trials+1,1)\n",
    "    y=np.array(result)\n",
    "    plt.figure()\n",
    "    plt.plot(x,y,'b',label='win_probability')\n",
    "    plt.title('Plotter')\n",
    "    plt.xlabel('trials')\n",
    "    plt.ylabel('win_probability')\n",
    "    plt.axhline(y=0.492929, linestyle=\":\", color=\"red\")\n",
    "    plt.show()"
   ]
  },
  {
   "cell_type": "code",
   "execution_count": 4,
   "id": "5710aa51",
   "metadata": {},
   "outputs": [
    {
     "name": "stdout",
     "output_type": "stream",
     "text": [
      "Your trials?1000\n",
      "your win probabilty in this number of trials is: 0.479\n",
      "relative_eror is: 0.028257619251454112\n"
     ]
    },
    {
     "data": {
      "image/png": "[encoded data removed]",
      "text/plain": [
       "<Figure size 432x288 with 1 Axes>"
      ]
     },
     "metadata": {
      "needs_background": "light"
     },
     "output_type": "display_data"
    }
   ],
   "source": [
    "trials=int(input('Your trials?'))\n",
    "\n",
    "RE(winorlost(trials))\n",
    "\n",
    "plot(winorlost(trials),trials)"
   ]
  },
  {
   "cell_type": "markdown",
   "id": "ee162df0",
   "metadata": {},
   "source": [
    "# Q2: Birthday Problem"
   ]
  },
  {
   "cell_type": "code",
   "execution_count": 5,
   "id": "5d96359c",
   "metadata": {},
   "outputs": [],
   "source": [
    "import random\n",
    "from matplotlib import pyplot as plt\n",
    "import numpy as np"
   ]
  },
  {
   "cell_type": "code",
   "execution_count": 9,
   "id": "0abcf2cc",
   "metadata": {},
   "outputs": [],
   "source": [
    "def birthday(n,k,trials):\n",
    "    result=0\n",
    "    player=[None]*k\n",
    "    for _ in range(trials):\n",
    "        for i in range(k):\n",
    "            player[i]=np.random.randint(1,n)\n",
    "        repeats=k-len(set(player))\n",
    "        if(repeats==1):#if repeats==1 we have just 2 player born in same day\n",
    "            result+=1\n",
    "    p=result/trials\n",
    "    return p"
   ]
  },
  {
   "cell_type": "code",
   "execution_count": 10,
   "id": "29731d05",
   "metadata": {},
   "outputs": [],
   "source": [
    "def plotter(n,k,trials):\n",
    "    x=range(1,k+1,1)\n",
    "    p=[]\n",
    "    for j in range(k):\n",
    "        p.append(birthday(n,j,trials))\n",
    "    y=np.array(p)\n",
    "    plt.figure()\n",
    "    plt.plot(x,y,'r',label='Same_probability')\n",
    "    plt.title('Plotter')\n",
    "    plt.xlabel('Number of Players')\n",
    "    plt.ylabel('Same_probability')\n",
    "    plt.show()#Drawing the plotter takes a bit time"
   ]
  },
  {
   "cell_type": "code",
   "execution_count": 11,
   "id": "347f24d6",
   "metadata": {},
   "outputs": [
    {
     "name": "stdout",
     "output_type": "stream",
     "text": [
      "n=365\n",
      "k=80\n",
      "trials=5000\n",
      "probability= 0.0012\n"
     ]
    },
    {
     "data": {
      "image/png": "[encoded data removed]",
      "text/plain": [
       "<Figure size 432x288 with 1 Axes>"
      ]
     },
     "metadata": {
      "needs_background": "light"
     },
     "output_type": "display_data"
    }
   ],
   "source": [
    "n=int(input('n='))#days\n",
    "k=int(input('k='))#players\n",
    "trials=int(input('trials='))#for part1:n=365,k=23/part3:n=365,k=80\n",
    "\n",
    "print(\"probability=\",birthday(n,k,trials))\n",
    "plotter(n,k,trials)"
   ]
  }
 ],
 "metadata": {
  "kernelspec": {
   "display_name": "Python 3",
   "language": "python",
   "name": "python3"
  },
  "language_info": {
   "codemirror_mode": {
    "name": "ipython",
    "version": 3
   },
   "file_extension": ".py",
   "mimetype": "text/x-python",
   "name": "python",
   "nbconvert_exporter": "python",
   "pygments_lexer": "ipython3",
   "version": "3.8.8"
  },
  "toc": {
   "base_numbering": 1,
   "nav_menu": {},
   "number_sections": true,
   "sideBar": true,
   "skip_h1_title": false,
   "title_cell": "Table of Contents",
   "title_sidebar": "Contents",
   "toc_cell": true,
   "toc_position": {},
   "toc_section_display": true,
   "toc_window_display": false
  }
 },
 "nbformat": 4,
 "nbformat_minor": 5
}
