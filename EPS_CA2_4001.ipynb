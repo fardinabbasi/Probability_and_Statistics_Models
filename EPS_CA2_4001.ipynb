{
 "cells": [
  {
   "cell_type": "markdown",
   "id": "e359ad21",
   "metadata": {},
   "source": [
    "# QS1"
   ]
  },
  {
   "cell_type": "code",
   "execution_count": null,
   "id": "421702d9",
   "metadata": {},
   "outputs": [],
   "source": [
    "import numpy as np#after running each cell clear kernel outpout and then run the next cell\n",
    "from matplotlib import pyplot as plt\n",
    "import random\n",
    "import math\n",
    "size_XY=int(input('size X&Y?'))\n",
    "sigmaX=math.sqrt(float(input('Variance X?')))\n",
    "muX=float(input('Average X?'))\n",
    "X=np.random.normal(muX,sigmaX,size_XY)\n",
    "sigmaY=math.sqrt(float(input('Variance Y?')))\n",
    "muY=float(input('Average Y?'))\n",
    "Y=np.random.normal(muY,sigmaY,size_XY)\n",
    "plt.figure()\n",
    "plt.hist(X,alpha=1,color='b')#alfa is transparency\n",
    "plt.hist(Y,alpha=0.7,color='r')\n",
    "plt.legend(['X', 'Y'])\n",
    "plt.show()\n",
    "Z=X+Y\n",
    "print('Z avarege is:',np.average(Z))\n",
    "print('Z Variance is:',np.var(Z))"
   ]
  },
  {
   "cell_type": "markdown",
   "id": "ca8825ec",
   "metadata": {},
   "source": [
    "# QS2"
   ]
  },
  {
   "cell_type": "code",
   "execution_count": null,
   "id": "aa8c3ac6",
   "metadata": {},
   "outputs": [],
   "source": [
    "import numpy as np#after running each cell clear kernel outpout and then run the next cell\n",
    "from matplotlib import pyplot as plt\n",
    "import random\n",
    "number=int(input('size U & V?'))\n",
    "U=np.random.uniform(0,1,number)\n",
    "V=np.random.uniform(0,1,number)\n",
    "R=np.sqrt(-2*(np.log(V)))#np.log(x)~ln(x)\n",
    "X=R*np.cos(2*U*np.pi)\n",
    "Y=R*np.sin(2*U*np.pi)\n",
    "plt.figure()\n",
    "plt.hist(X,alpha=1,color='b')\n",
    "plt.hist(Y,alpha=0.7,color='r')\n",
    "plt.legend(['X', 'Y'])\n",
    "plt.show()"
   ]
  },
  {
   "cell_type": "markdown",
   "id": "57935845",
   "metadata": {},
   "source": [
    "# QS3"
   ]
  },
  {
   "cell_type": "code",
   "execution_count": null,
   "id": "6db21336",
   "metadata": {},
   "outputs": [],
   "source": [
    "import numpy as np#after running each cell clear kernel outpout and then run the next cell\n",
    "from matplotlib import pyplot as plt\n",
    "import random\n",
    "import math\n",
    "import abc\n",
    "d=5#witdh of the space\n",
    "l=2#lenght of the needle\n",
    "theoric_probability=(2*l)/(math.pi*d)\n",
    "hit=0\n",
    "number=int(input('needle no?'))#Qs says 5000\n",
    "result=[None]*number\n",
    "X=np.random.uniform(0,d/2,number)#Distance of middle of niddle from closest the line\n",
    "teta=np.random.uniform(0,math.pi,number)\n",
    "for i in range(number):\n",
    "    if(X[i]<(l*math.sin(teta[i])/2)):\n",
    "        hit+=1\n",
    "print('number of hits:',hit)\n",
    "hit_probability=hit/number\n",
    "print('hit_probability is:',hit_probability)\n",
    "print('pi Estimation:',(2*l)/(d*hit_probability))\n",
    "RE=abs((theoric_probability-hit_probability)/theoric_probability)\n",
    "print('relative_eror is:',RE)"
   ]
  }
 ],
 "metadata": {
  "kernelspec": {
   "display_name": "Python 3",
   "language": "python",
   "name": "python3"
  },
  "language_info": {
   "codemirror_mode": {
    "name": "ipython",
    "version": 3
   },
   "file_extension": ".py",
   "mimetype": "text/x-python",
   "name": "python",
   "nbconvert_exporter": "python",
   "pygments_lexer": "ipython3",
   "version": "3.8.8"
  },
  "toc": {
   "base_numbering": 1,
   "nav_menu": {},
   "number_sections": true,
   "sideBar": true,
   "skip_h1_title": false,
   "title_cell": "Table of Contents",
   "title_sidebar": "Contents",
   "toc_cell": false,
   "toc_position": {},
   "toc_section_display": true,
   "toc_window_display": false
  }
 },
 "nbformat": 4,
 "nbformat_minor": 5
}
