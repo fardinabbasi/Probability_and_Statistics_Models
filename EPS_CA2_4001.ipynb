{
 "cells": [
  {
   "cell_type": "markdown",
   "id": "9cf6d70c",
   "metadata": {
    "toc": true
   },
   "source": [
    "<h1>Table of Contents<span class=\"tocSkip\"></span></h1>\n",
    "<div class=\"toc\"><ul class=\"toc-item\"><li><span><a href=\"#QS1\" data-toc-modified-id=\"QS1-1\"><span class=\"toc-item-num\">1&nbsp;&nbsp;</span>QS1</a></span></li><li><span><a href=\"#QS2\" data-toc-modified-id=\"QS2-2\"><span class=\"toc-item-num\">2&nbsp;&nbsp;</span>QS2</a></span></li><li><span><a href=\"#QS3\" data-toc-modified-id=\"QS3-3\"><span class=\"toc-item-num\">3&nbsp;&nbsp;</span>QS3</a></span></li></ul></div>"
   ]
  },
  {
   "cell_type": "markdown",
   "id": "e359ad21",
   "metadata": {},
   "source": [
    "# QS1"
   ]
  },
  {
   "cell_type": "code",
   "execution_count": 1,
   "id": "bf4acb42",
   "metadata": {},
   "outputs": [],
   "source": [
    "import numpy as np\n",
    "from matplotlib import pyplot as plt\n",
    "import random\n",
    "import math"
   ]
  },
  {
   "cell_type": "code",
   "execution_count": 3,
   "id": "421702d9",
   "metadata": {},
   "outputs": [
    {
     "name": "stdout",
     "output_type": "stream",
     "text": [
      "size X&Y?10\n",
      "Variance X?10\n",
      "Average X?10\n",
      "Variance Y?10\n",
      "Average Y?10\n"
     ]
    }
   ],
   "source": [
    "size_XY=int(input('size X&Y?'))\n",
    "sigmaX=math.sqrt(float(input('Variance X?')))\n",
    "muX=float(input('Average X?'))\n",
    "X=np.random.normal(muX,sigmaX,size_XY)\n",
    "\n",
    "sigmaY=math.sqrt(float(input('Variance Y?')))\n",
    "muY=float(input('Average Y?'))\n",
    "Y=np.random.normal(muY,sigmaY,size_XY)"
   ]
  },
  {
   "cell_type": "code",
   "execution_count": 4,
   "id": "20653c9b",
   "metadata": {},
   "outputs": [
    {
     "data": {
      "image/png": "[encoded data removed]",
      "text/plain": [
       "<Figure size 432x288 with 1 Axes>"
      ]
     },
     "metadata": {
      "needs_background": "light"
     },
     "output_type": "display_data"
    },
    {
     "name": "stdout",
     "output_type": "stream",
     "text": [
      "Z avarege is: 20.17485408440161\n",
      "Z Variance is: 27.537917275693935\n"
     ]
    }
   ],
   "source": [
    "plt.figure()\n",
    "plt.hist(X,alpha=1,color='b')#alfa is transparency\n",
    "plt.hist(Y,alpha=0.7,color='r')\n",
    "plt.legend(['X', 'Y'])\n",
    "plt.show()\n",
    "Z=X+Y\n",
    "print('Z avarege is:',np.average(Z))\n",
    "print('Z Variance is:',np.var(Z))"
   ]
  },
  {
   "cell_type": "markdown",
   "id": "ca8825ec",
   "metadata": {},
   "source": [
    "# QS2"
   ]
  },
  {
   "cell_type": "code",
   "execution_count": 5,
   "id": "978ae2e0",
   "metadata": {},
   "outputs": [],
   "source": [
    "import numpy as np\n",
    "from matplotlib import pyplot as plt\n",
    "import random"
   ]
  },
  {
   "cell_type": "code",
   "execution_count": 6,
   "id": "aa8c3ac6",
   "metadata": {},
   "outputs": [
    {
     "name": "stdout",
     "output_type": "stream",
     "text": [
      "size U & V?100\n"
     ]
    },
    {
     "data": {
      "image/png": "[encoded data removed]",
      "text/plain": [
       "<Figure size 432x288 with 1 Axes>"
      ]
     },
     "metadata": {
      "needs_background": "light"
     },
     "output_type": "display_data"
    }
   ],
   "source": [
    "number=int(input('size U & V?'))\n",
    "\n",
    "U=np.random.uniform(0,1,number)\n",
    "V=np.random.uniform(0,1,number)\n",
    "\n",
    "R=np.sqrt(-2*(np.log(V)))\n",
    "X=R*np.cos(2*U*np.pi)\n",
    "Y=R*np.sin(2*U*np.pi)\n",
    "\n",
    "plt.figure()\n",
    "plt.hist(X,alpha=1,color='b')\n",
    "plt.hist(Y,alpha=0.7,color='r')\n",
    "plt.legend(['X', 'Y'])\n",
    "plt.show()"
   ]
  },
  {
   "cell_type": "markdown",
   "id": "57935845",
   "metadata": {},
   "source": [
    "# QS3"
   ]
  },
  {
   "cell_type": "code",
   "execution_count": 7,
   "id": "f339f051",
   "metadata": {},
   "outputs": [],
   "source": [
    "import numpy as np\n",
    "from matplotlib import pyplot as plt\n",
    "import random\n",
    "import math\n",
    "import abc"
   ]
  },
  {
   "cell_type": "code",
   "execution_count": 8,
   "id": "6db21336",
   "metadata": {},
   "outputs": [
    {
     "name": "stdout",
     "output_type": "stream",
     "text": [
      "needle no?100\n",
      "number of hits: 31\n",
      "hit_probability is: 0.31\n",
      "pi Estimation: 2.5806451612903225\n",
      "relative_eror is: 0.21736715326604486\n"
     ]
    }
   ],
   "source": [
    "d=5#witdh of the space\n",
    "l=2#lenght of the needle\n",
    "\n",
    "theoric_probability=(2*l)/(math.pi*d)\n",
    "hit=0\n",
    "number=int(input('needle no?'))#Qs says 5000\n",
    "result=[None]*number\n",
    "X=np.random.uniform(0,d/2,number)#Distance of middle of niddle from closest the line\n",
    "teta=np.random.uniform(0,math.pi,number)\n",
    "\n",
    "for i in range(number):\n",
    "    if(X[i]<(l*math.sin(teta[i])/2)):\n",
    "        hit+=1\n",
    "        \n",
    "print('number of hits:',hit)\n",
    "\n",
    "hit_probability=hit/number\n",
    "print('hit_probability is:',hit_probability)\n",
    "\n",
    "print('pi Estimation:',(2*l)/(d*hit_probability))\n",
    "\n",
    "RE=abs((theoric_probability-hit_probability)/theoric_probability)\n",
    "print('relative_eror is:',RE)"
   ]
  }
 ],
 "metadata": {
  "kernelspec": {
   "display_name": "Python 3",
   "language": "python",
   "name": "python3"
  },
  "language_info": {
   "codemirror_mode": {
    "name": "ipython",
    "version": 3
   },
   "file_extension": ".py",
   "mimetype": "text/x-python",
   "name": "python",
   "nbconvert_exporter": "python",
   "pygments_lexer": "ipython3",
   "version": "3.8.8"
  },
  "toc": {
   "base_numbering": 1,
   "nav_menu": {},
   "number_sections": true,
   "sideBar": true,
   "skip_h1_title": false,
   "title_cell": "Table of Contents",
   "title_sidebar": "Contents",
   "toc_cell": true,
   "toc_position": {},
   "toc_section_display": true,
   "toc_window_display": false
  }
 },
 "nbformat": 4,
 "nbformat_minor": 5
}
